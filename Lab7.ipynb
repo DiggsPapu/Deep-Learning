{
 "cells": [
  {
   "cell_type": "markdown",
   "metadata": {},
   "source": [
    "# Lab 07\n",
    "\n",
    "- Diego Andrés Alonzo Medinilla 20172\n",
    "- Arturo Herberto Argueta Ávila 21527"
   ]
  },
  {
   "cell_type": "markdown",
   "metadata": {},
   "source": [
    "## Libraries"
   ]
  },
  {
   "cell_type": "code",
   "execution_count": 1,
   "metadata": {},
   "outputs": [
    {
     "name": "stdout",
     "output_type": "stream",
     "text": [
      "Looking in indexes: https://download.pytorch.org/whl/cu124Note: you may need to restart the kernel to use updated packages.\n",
      "\n",
      "Requirement already satisfied: torch in c:\\users\\inmar\\appdata\\roaming\\python\\python311\\site-packages (2.4.0)\n",
      "Requirement already satisfied: torchvision in c:\\python311\\lib\\site-packages (0.19.0)\n",
      "Requirement already satisfied: torchaudio in c:\\python311\\lib\\site-packages (2.4.0)\n",
      "Requirement already satisfied: filelock in c:\\python311\\lib\\site-packages (from torch) (3.13.1)\n",
      "Requirement already satisfied: typing-extensions>=4.8.0 in c:\\python311\\lib\\site-packages (from torch) (4.12.2)\n",
      "Requirement already satisfied: sympy in c:\\users\\inmar\\appdata\\roaming\\python\\python311\\site-packages (from torch) (1.13.1)\n",
      "Requirement already satisfied: networkx in c:\\python311\\lib\\site-packages (from torch) (3.3)\n",
      "Requirement already satisfied: jinja2 in c:\\python311\\lib\\site-packages (from torch) (3.1.2)\n",
      "Requirement already satisfied: fsspec in c:\\users\\inmar\\appdata\\roaming\\python\\python311\\site-packages (from torch) (2024.6.1)\n",
      "Requirement already satisfied: numpy<2 in c:\\python311\\lib\\site-packages (from torchvision) (1.24.3)\n",
      "Requirement already satisfied: pillow!=8.3.*,>=5.3.0 in c:\\python311\\lib\\site-packages (from torchvision) (10.0.0)\n",
      "Requirement already satisfied: MarkupSafe>=2.0 in c:\\python311\\lib\\site-packages (from jinja2->torch) (2.1.3)\n",
      "Requirement already satisfied: mpmath<1.4,>=1.1.0 in c:\\users\\inmar\\appdata\\roaming\\python\\python311\\site-packages (from sympy->torch) (1.3.0)\n"
     ]
    },
    {
     "name": "stderr",
     "output_type": "stream",
     "text": [
      "WARNING: Ignoring invalid distribution ~ip (c:\\Python311\\Lib\\site-packages)\n",
      "DEPRECATION: Loading egg at c:\\python311\\lib\\site-packages\\vboxapi-1.0-py3.11.egg is deprecated. pip 24.3 will enforce this behaviour change. A possible replacement is to use pip for package installation. Discussion can be found at https://github.com/pypa/pip/issues/12330\n",
      "WARNING: Ignoring invalid distribution ~ip (c:\\Python311\\Lib\\site-packages)\n",
      "WARNING: Ignoring invalid distribution ~ip (c:\\Python311\\Lib\\site-packages)\n"
     ]
    },
    {
     "name": "stdout",
     "output_type": "stream",
     "text": [
      "Note: you may need to restart the kernel to use updated packages.Requirement already satisfied: numpy in c:\\python311\\lib\\site-packages (1.24.3)\n",
      "Requirement already satisfied: matplotlib in c:\\python311\\lib\\site-packages (3.7.2)\n",
      "Requirement already satisfied: seaborn in c:\\python311\\lib\\site-packages (0.13.2)\n",
      "Requirement already satisfied: pandas in c:\\users\\inmar\\appdata\\roaming\\python\\python311\\site-packages (2.1.1)\n",
      "Requirement already satisfied: contourpy>=1.0.1 in c:\\python311\\lib\\site-packages (from matplotlib) (1.1.0)\n",
      "Requirement already satisfied: cycler>=0.10 in c:\\python311\\lib\\site-packages (from matplotlib) (0.11.0)\n",
      "Requirement already satisfied: fonttools>=4.22.0 in c:\\python311\\lib\\site-packages (from matplotlib) (4.42.0)\n",
      "Requirement already satisfied: kiwisolver>=1.0.1 in c:\\python311\\lib\\site-packages (from matplotlib) (1.4.4)\n",
      "Requirement already satisfied: packaging>=20.0 in c:\\python311\\lib\\site-packages (from matplotlib) (23.1)\n",
      "Requirement already satisfied: pillow>=6.2.0 in c:\\python311\\lib\\site-packages (from matplotlib) (10.0.0)\n",
      "Requirement already satisfied: pyparsing<3.1,>=2.3.1 in c:\\python311\\lib\\site-packages (from matplotlib) (3.0.9)\n",
      "Requirement already satisfied: python-dateutil>=2.7 in c:\\python311\\lib\\site-packages (from matplotlib) (2.8.2)\n",
      "Requirement already satisfied: pytz>=2020.1 in c:\\users\\inmar\\appdata\\roaming\\python\\python311\\site-packages (from pandas) (2023.3.post1)\n",
      "Requirement already satisfied: tzdata>=2022.1 in c:\\users\\inmar\\appdata\\roaming\\python\\python311\\site-packages (from pandas) (2023.3)\n",
      "Requirement already satisfied: six>=1.5 in c:\\python311\\lib\\site-packages (from python-dateutil>=2.7->matplotlib) (1.16.0)\n",
      "\n"
     ]
    },
    {
     "name": "stderr",
     "output_type": "stream",
     "text": [
      "WARNING: Ignoring invalid distribution ~ip (c:\\Python311\\Lib\\site-packages)\n",
      "DEPRECATION: Loading egg at c:\\python311\\lib\\site-packages\\vboxapi-1.0-py3.11.egg is deprecated. pip 24.3 will enforce this behaviour change. A possible replacement is to use pip for package installation. Discussion can be found at https://github.com/pypa/pip/issues/12330\n",
      "WARNING: Ignoring invalid distribution ~ip (c:\\Python311\\Lib\\site-packages)\n",
      "WARNING: Ignoring invalid distribution ~ip (c:\\Python311\\Lib\\site-packages)\n"
     ]
    },
    {
     "name": "stdout",
     "output_type": "stream",
     "text": [
      "Requirement already satisfied: gymnasium in c:\\python311\\lib\\site-packages (0.29.1)\n",
      "Requirement already satisfied: numpy>=1.21.0 in c:\\python311\\lib\\site-packages (from gymnasium) (1.24.3)\n",
      "Requirement already satisfied: cloudpickle>=1.2.0 in c:\\python311\\lib\\site-packages (from gymnasium) (3.0.0)\n",
      "Requirement already satisfied: typing-extensions>=4.3.0 in c:\\python311\\lib\\site-packages (from gymnasium) (4.12.2)\n",
      "Requirement already satisfied: farama-notifications>=0.0.1 in c:\\python311\\lib\\site-packages (from gymnasium) (0.0.4)\n",
      "Note: you may need to restart the kernel to use updated packages.\n"
     ]
    },
    {
     "name": "stderr",
     "output_type": "stream",
     "text": [
      "WARNING: Ignoring invalid distribution ~ip (c:\\Python311\\Lib\\site-packages)\n",
      "DEPRECATION: Loading egg at c:\\python311\\lib\\site-packages\\vboxapi-1.0-py3.11.egg is deprecated. pip 24.3 will enforce this behaviour change. A possible replacement is to use pip for package installation. Discussion can be found at https://github.com/pypa/pip/issues/12330\n",
      "WARNING: Ignoring invalid distribution ~ip (c:\\Python311\\Lib\\site-packages)\n",
      "WARNING: Ignoring invalid distribution ~ip (c:\\Python311\\Lib\\site-packages)\n"
     ]
    }
   ],
   "source": [
    "%pip install torch torchvision torchaudio --index-url https://download.pytorch.org/whl/cu124\n",
    "%pip install numpy matplotlib seaborn pandas\n",
    "%pip install gymnasium"
   ]
  },
  {
   "cell_type": "code",
   "execution_count": 2,
   "metadata": {},
   "outputs": [
    {
     "name": "stdout",
     "output_type": "stream",
     "text": [
      "Requirement already satisfied: pyglet==1.3.2 in c:\\python311\\lib\\site-packages (1.3.2)Note: you may need to restart the kernel to use updated packages.\n"
     ]
    },
    {
     "name": "stderr",
     "output_type": "stream",
     "text": [
      "WARNING: Ignoring invalid distribution ~ip (c:\\Python311\\Lib\\site-packages)\n",
      "DEPRECATION: Loading egg at c:\\python311\\lib\\site-packages\\vboxapi-1.0-py3.11.egg is deprecated. pip 24.3 will enforce this behaviour change. A possible replacement is to use pip for package installation. Discussion can be found at https://github.com/pypa/pip/issues/12330\n",
      "WARNING: Ignoring invalid distribution ~ip (c:\\Python311\\Lib\\site-packages)\n",
      "WARNING: Ignoring invalid distribution ~ip (c:\\Python311\\Lib\\site-packages)\n"
     ]
    },
    {
     "name": "stdout",
     "output_type": "stream",
     "text": [
      "\n",
      "Requirement already satisfied: gym==0.22 in c:\\python311\\lib\\site-packages (0.22.0)\n",
      "Requirement already satisfied: pyvirtualdisplay in c:\\python311\\lib\\site-packages (3.0)\n",
      "Requirement already satisfied: future in c:\\users\\inmar\\appdata\\roaming\\python\\python311\\site-packages (from pyglet==1.3.2) (1.0.0)\n",
      "Requirement already satisfied: numpy>=1.18.0 in c:\\python311\\lib\\site-packages (from gym==0.22) (1.24.3)\n",
      "Requirement already satisfied: cloudpickle>=1.2.0 in c:\\python311\\lib\\site-packages (from gym==0.22) (3.0.0)\n",
      "Requirement already satisfied: gym-notices>=0.0.4 in c:\\python311\\lib\\site-packages (from gym==0.22) (0.0.8)\n"
     ]
    }
   ],
   "source": [
    "%pip install pyglet==1.3.2 gym==0.22 pyvirtualdisplay"
   ]
  },
  {
   "cell_type": "code",
   "execution_count": 3,
   "metadata": {},
   "outputs": [
    {
     "name": "stdout",
     "output_type": "stream",
     "text": [
      "Note: you may need to restart the kernel to use updated packages.\n"
     ]
    },
    {
     "name": "stderr",
     "output_type": "stream",
     "text": [
      "WARNING: Ignoring invalid distribution ~ip (c:\\Python311\\Lib\\site-packages)\n",
      "DEPRECATION: Loading egg at c:\\python311\\lib\\site-packages\\vboxapi-1.0-py3.11.egg is deprecated. pip 24.3 will enforce this behaviour change. A possible replacement is to use pip for package installation. Discussion can be found at https://github.com/pypa/pip/issues/12330\n"
     ]
    }
   ],
   "source": [
    "%pip freeze > requirements.txt"
   ]
  },
  {
   "cell_type": "code",
   "execution_count": 4,
   "metadata": {},
   "outputs": [
    {
     "name": "stderr",
     "output_type": "stream",
     "text": [
      "\n"
     ]
    }
   ],
   "source": [
    "# Ambiente\n",
    "import gymnasium as gym\n",
    "from gym.wrappers import Monitor, RecordVideo\n",
    "from IPython.display import HTML\n",
    "from IPython import display as ipythondisplay\n",
    "# Virtualizacion\n",
    "from collections import deque\n",
    "from IPython import display as ipythondisplay\n",
    "from IPython.display import HTML\n",
    "from collections import deque\n",
    "import torch\n",
    "import torch.nn as nn\n",
    "import torch.nn.functional as F\n",
    "import numpy as np\n",
    "import glob\n",
    "import io\n",
    "import base64"
   ]
  },
  {
   "cell_type": "markdown",
   "metadata": {},
   "source": [
    "## Crear el ambiente"
   ]
  },
  {
   "cell_type": "code",
   "execution_count": 5,
   "metadata": {},
   "outputs": [],
   "source": [
    "env = gym.make('CartPole-v1')\n",
    "num_features = env.observation_space.shape[0]\n",
    "num_actions = env.action_space.n"
   ]
  },
  {
   "cell_type": "code",
   "execution_count": 6,
   "metadata": {},
   "outputs": [
    {
     "data": {
      "text/plain": [
       "device(type='cpu')"
      ]
     },
     "execution_count": 6,
     "metadata": {},
     "output_type": "execute_result"
    }
   ],
   "source": [
    "device = torch.device(\"cuda\" if torch.cuda.is_available() else \"cpu\")\n",
    "device"
   ]
  },
  {
   "cell_type": "markdown",
   "metadata": {},
   "source": [
    "## Redes de linea y destino"
   ]
  },
  {
   "cell_type": "code",
   "execution_count": 7,
   "metadata": {},
   "outputs": [],
   "source": [
    "class DQN(nn.Module):\n",
    "    \"\"\"Dense neural network class.\"\"\"\n",
    "    def __init__(self, num_inputs, num_actions):\n",
    "        super(DQN, self).__init__()\n",
    "        self.fc1 = nn.Linear(num_inputs, 32)\n",
    "        self.fc2 = nn.Linear(32, 32)\n",
    "        self.out = nn.Linear(32, num_actions)\n",
    "\n",
    "    def forward(self, states):\n",
    "        \"\"\"Forward pass.\"\"\"\n",
    "        x = F.relu(self.fc1(states))\n",
    "        x = F.relu(self.fc2(x))\n",
    "        return self.out(x)\n",
    "\n",
    "# Linea\n",
    "main_nn = DQN(num_features, num_actions).to(device)\n",
    "# Destino\n",
    "target_nn = DQN(num_features, num_actions).to(device)\n",
    "\n",
    "optimizer = torch.optim.Adam(main_nn.parameters(), lr=1e-4)\n",
    "loss_fn = nn.MSELoss()"
   ]
  },
  {
   "cell_type": "markdown",
   "metadata": {},
   "source": [
    "## Hiperparámetros"
   ]
  },
  {
   "cell_type": "code",
   "execution_count": 8,
   "metadata": {},
   "outputs": [],
   "source": [
    "# Hyperparameters.\n",
    "num_episodes = 1000\n",
    "epsilon = 1.0\n",
    "batch_size = 32\n",
    "discount = 0.99\n",
    "cur_frame = 0"
   ]
  },
  {
   "cell_type": "markdown",
   "metadata": {},
   "source": [
    "## Epsilon greedy"
   ]
  },
  {
   "cell_type": "code",
   "execution_count": 9,
   "metadata": {},
   "outputs": [],
   "source": [
    "def select_epsilon_greedy_action(state, epsilon):\n",
    "  \"\"\"Take random action with probability epsilon, else take best action.\"\"\"\n",
    "  result = np.random.uniform()\n",
    "  if result < epsilon:\n",
    "    return env.action_space.sample() # Random action (left or right).\n",
    "  else:\n",
    "    qs = main_nn(state).cpu().data.numpy()\n",
    "    return np.argmax(qs) # Greedy action for state."
   ]
  },
  {
   "cell_type": "markdown",
   "metadata": {},
   "source": [
    "## Reproduccion de la experiencia"
   ]
  },
  {
   "cell_type": "code",
   "execution_count": 10,
   "metadata": {},
   "outputs": [],
   "source": [
    "class ReplayBuffer(object):\n",
    "  \"\"\"Experience replay buffer that samples uniformly.\"\"\"\n",
    "  def __init__(self, size, device=\"cpu\"):\n",
    "    \"\"\"Initializes the buffer.\"\"\"\n",
    "    self.buffer = deque(maxlen=size)\n",
    "    self.device = device\n",
    "\n",
    "  def add(self, state, action, reward, next_state, done):\n",
    "    self.buffer.append((state, action, reward, next_state, done))\n",
    "\n",
    "  def __len__(self):\n",
    "    return len(self.buffer)\n",
    "\n",
    "  def sample(self, num_samples):\n",
    "    states, actions, rewards, next_states, dones = [], [], [], [], []\n",
    "    idx = np.random.choice(len(self.buffer), num_samples)\n",
    "    for i in idx:\n",
    "      elem = self.buffer[i]\n",
    "      state, action, reward, next_state, done = elem\n",
    "      states.append(np.array(state, copy=False))\n",
    "      actions.append(np.array(action, copy=False))\n",
    "      rewards.append(reward)\n",
    "      next_states.append(np.array(next_state, copy=False))\n",
    "      dones.append(done)\n",
    "    states = torch.as_tensor(np.array(states), device=self.device)\n",
    "    actions = torch.as_tensor(np.array(actions), device=self.device)\n",
    "    rewards = torch.as_tensor(\n",
    "        np.array(rewards, dtype=np.float32), device=self.device\n",
    "    )\n",
    "    next_states = torch.as_tensor(np.array(next_states), device=self.device)\n",
    "    dones = torch.as_tensor(np.array(dones, dtype=np.float32), device=self.device)\n",
    "    return states, actions, rewards, next_states, dones\n",
    "\n",
    "buffer = ReplayBuffer(100000, device=device)"
   ]
  },
  {
   "cell_type": "markdown",
   "metadata": {},
   "source": [
    "## Ciclo de entrenamiento"
   ]
  },
  {
   "cell_type": "code",
   "execution_count": 11,
   "metadata": {},
   "outputs": [],
   "source": [
    "def train_step(states, actions, rewards, next_states, dones):\n",
    "  \"\"\"Perform a training iteration on a batch of data sampled from the experience\n",
    "  replay buffer.\n",
    "  \"\"\"\n",
    "  # Calculate targets.\n",
    "  max_next_qs = target_nn(next_states).max(-1).values\n",
    "  target = rewards + (1.0 - dones) * discount * max_next_qs\n",
    "  qs = main_nn(states)\n",
    "  action_masks = F.one_hot(actions, num_actions)\n",
    "  masked_qs = (action_masks * qs).sum(dim=-1)\n",
    "  loss = loss_fn(masked_qs, target.detach())\n",
    "  #nn.utils.clip_grad_norm_(loss, max_norm=10)\n",
    "  optimizer.zero_grad()\n",
    "  loss.backward()\n",
    "  optimizer.step()\n",
    "  return loss"
   ]
  },
  {
   "cell_type": "code",
   "execution_count": 12,
   "metadata": {},
   "outputs": [
    {
     "name": "stdout",
     "output_type": "stream",
     "text": [
      "Episode 0/1000. Epsilon: 0.999. Reward in last 100 episodes: 29.00\n",
      "Episode 50/1000. Epsilon: 0.949. Reward in last 100 episodes: 19.65\n",
      "Episode 100/1000. Epsilon: 0.899. Reward in last 100 episodes: 19.83\n",
      "Episode 150/1000. Epsilon: 0.849. Reward in last 100 episodes: 20.62\n",
      "Episode 200/1000. Epsilon: 0.799. Reward in last 100 episodes: 21.78\n",
      "Episode 250/1000. Epsilon: 0.749. Reward in last 100 episodes: 24.08\n",
      "Episode 300/1000. Epsilon: 0.699. Reward in last 100 episodes: 26.05\n",
      "Episode 350/1000. Epsilon: 0.649. Reward in last 100 episodes: 28.57\n",
      "Episode 400/1000. Epsilon: 0.599. Reward in last 100 episodes: 34.07\n",
      "Episode 450/1000. Epsilon: 0.549. Reward in last 100 episodes: 40.57\n",
      "Episode 500/1000. Epsilon: 0.499. Reward in last 100 episodes: 49.79\n",
      "Episode 550/1000. Epsilon: 0.449. Reward in last 100 episodes: 59.27\n",
      "Episode 600/1000. Epsilon: 0.399. Reward in last 100 episodes: 68.69\n",
      "Episode 650/1000. Epsilon: 0.349. Reward in last 100 episodes: 79.81\n",
      "Episode 700/1000. Epsilon: 0.299. Reward in last 100 episodes: 90.21\n",
      "Episode 750/1000. Epsilon: 0.249. Reward in last 100 episodes: 100.66\n",
      "Episode 800/1000. Epsilon: 0.199. Reward in last 100 episodes: 110.41\n",
      "Episode 850/1000. Epsilon: 0.149. Reward in last 100 episodes: 117.01\n",
      "Episode 900/1000. Epsilon: 0.099. Reward in last 100 episodes: 123.80\n",
      "Episode 950/1000. Epsilon: 0.050. Reward in last 100 episodes: 129.68\n",
      "Episode 1000/1000. Epsilon: 0.050. Reward in last 100 episodes: 134.97\n"
     ]
    }
   ],
   "source": [
    "# Start training. Play game once and then train with a batch.\n",
    "rewards_history = []\n",
    "for episode in range(num_episodes+1):\n",
    "  state, _ = env.reset()\n",
    "  state = state.astype(np.float32)\n",
    "  ep_reward, done = 0, False\n",
    "  while not done:\n",
    "    state_in = torch.from_numpy(np.expand_dims(state, axis=0)).to(device)\n",
    "    action = select_epsilon_greedy_action(state_in, epsilon)\n",
    "    next_state, reward, done = env.step(action)[:3]\n",
    "    next_state = next_state.astype(np.float32)\n",
    "    ep_reward += reward\n",
    "    # Save to experience replay.\n",
    "    buffer.add(state, action, reward, next_state, done)\n",
    "    state = next_state\n",
    "    cur_frame += 1\n",
    "    # Copy main_nn weights to target_nn.\n",
    "    if cur_frame % 2000 == 0:\n",
    "      target_nn.load_state_dict(main_nn.state_dict())\n",
    "    \n",
    "    # Train neural network.\n",
    "    if len(buffer) > batch_size:\n",
    "      states, actions, rewards, next_states, dones = buffer.sample(batch_size)\n",
    "      loss = train_step(states, actions, rewards, next_states, dones)\n",
    "\n",
    "  if episode < 950:\n",
    "    epsilon -= 0.001\n",
    "\n",
    "  rewards_history.append(ep_reward)\n",
    "\n",
    "  if episode % 50 == 0:\n",
    "    print(f'Episode {episode}/{num_episodes}. Epsilon: {epsilon:.3f}.'\n",
    "          f' Reward in last 100 episodes: {np.mean(rewards_history):.2f}')\n",
    "    \n",
    "env.close()"
   ]
  },
  {
   "cell_type": "markdown",
   "metadata": {},
   "source": [
    "## Representar el entorno"
   ]
  },
  {
   "cell_type": "code",
   "execution_count": 13,
   "metadata": {},
   "outputs": [],
   "source": [
    "def show_video():\n",
    "  \"\"\"Enables video recording of gym environment and shows it.\"\"\"\n",
    "  mp4list = glob.glob('video/*.mp4')\n",
    "  if len(mp4list) > 0:\n",
    "    mp4 = mp4list[0]\n",
    "    video = io.open(mp4, 'r+b').read()\n",
    "    encoded = base64.b64encode(video)\n",
    "    ipythondisplay.display(HTML(data='''<video alt=\"test\" autoplay \n",
    "                loop controls style=\"height: 400px;\">\n",
    "                <source src=\"data:video/mp4;base64,{0}\" type=\"video/mp4\" />\n",
    "             </video>'''.format(encoded.decode('ascii'))))\n",
    "  else: \n",
    "    print(\"Video not found\")\n",
    "\n",
    "def wrap_env(env):\n",
    "  env = Monitor(env, './video', force=True)\n",
    "  return env"
   ]
  },
  {
   "cell_type": "code",
   "execution_count": 14,
   "metadata": {},
   "outputs": [
    {
     "name": "stderr",
     "output_type": "stream",
     "text": [
      "c:\\Python311\\Lib\\site-packages\\gym\\wrappers\\record_video.py:41: UserWarning: \u001b[33mWARN: Overwriting existing videos at e:\\Universidad\\2024\\Deep-Learning\\Lab7\\Deep-Learning\\video folder (try specifying a different `video_folder` for the `RecordVideo` wrapper if this is not desired)\u001b[0m\n",
      "  logger.warn(\n",
      "c:\\Python311\\Lib\\site-packages\\gymnasium\\core.py:311: UserWarning: \u001b[33mWARN: env.is_vector_env to get variables from other wrappers is deprecated and will be removed in v1.0, to get this variable you can do `env.unwrapped.is_vector_env` for environment variables or `env.get_wrapper_attr('is_vector_env')` that will search the reminding wrappers.\u001b[0m\n",
      "  logger.warn(\n"
     ]
    },
    {
     "data": {
      "text/html": [
       "<video alt=\"test\" autoplay \n",
       "                    loop controls style=\"height: 400px;\">\n",
       "                    <source src=\"data:video/mp4;base64,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\" type=\"video/mp4\" />\n",
       "                 </video>"
      ],
      "text/plain": [
       "<IPython.core.display.HTML object>"
      ]
     },
     "metadata": {},
     "output_type": "display_data"
    }
   ],
   "source": [
    "# Wrap the environment to enable video recording\n",
    "def wrap_env(env):\n",
    "    # Save video to './video' directory\n",
    "    env = RecordVideo(env, video_folder='./video', episode_trigger=lambda x: True)\n",
    "    return env\n",
    "\n",
    "env = wrap_env(gym.make('CartPole-v1', render_mode='rgb_array'))\n",
    "\n",
    "# Your CartPole training logic goes here (same as before)\n",
    "\n",
    "def show_video():\n",
    "    \"\"\"Enables video recording of gym environment and shows it.\"\"\"\n",
    "    mp4list = glob.glob('video/*.mp4')\n",
    "    if len(mp4list) > 0:\n",
    "        mp4 = mp4list[0]\n",
    "        video = io.open(mp4, 'r+b').read()\n",
    "        encoded = base64.b64encode(video)\n",
    "        ipythondisplay.display(HTML(data='''<video alt=\"test\" autoplay \n",
    "                    loop controls style=\"height: 400px;\">\n",
    "                    <source src=\"data:video/mp4;base64,{0}\" type=\"video/mp4\" />\n",
    "                 </video>'''.format(encoded.decode('ascii'))))\n",
    "    else: \n",
    "        print(\"Video not found\")\n",
    "\n",
    "# After training, show the video\n",
    "show_video()\n"
   ]
  },
  {
   "cell_type": "markdown",
   "metadata": {},
   "source": [
    "## Supervisar el entrenamiento"
   ]
  },
  {
   "cell_type": "code",
   "execution_count": 15,
   "metadata": {},
   "outputs": [
    {
     "data": {
      "image/png": "[encoded data removed]",
      "text/plain": [
       "<Figure size 1200x600 with 1 Axes>"
      ]
     },
     "metadata": {},
     "output_type": "display_data"
    }
   ],
   "source": [
    "import matplotlib.pyplot as plt\n",
    "\n",
    "# Graficar la recompensa total obtenida en cada episodio\n",
    "plt.figure(figsize=(12, 6))\n",
    "plt.plot(range(len(rewards_history)), rewards_history, label='Recompensa por episodio')\n",
    "plt.xlabel('Episodio')\n",
    "plt.ylabel('Recompensa total')\n",
    "plt.title('Progreso del entrenamiento del agente')\n",
    "plt.legend()\n",
    "plt.show()"
   ]
  },
  {
   "cell_type": "markdown",
   "metadata": {},
   "source": [
    "## Evaluar el rendimiento"
   ]
  },
  {
   "cell_type": "code",
   "execution_count": 17,
   "metadata": {},
   "outputs": [
    {
     "name": "stdout",
     "output_type": "stream",
     "text": [
      "\n",
      "Resultados del Entrenamiento:\n",
      "Recompensa Promedio: 134.97\n",
      "Desviación Estándar: 107.57\n",
      "Recompensa Máxima: 577.0\n",
      "Recompensa Mínima: 9.0\n"
     ]
    }
   ],
   "source": [
    "import numpy as np\n",
    "\n",
    "# Calcular estadísticas\n",
    "mean_reward = np.mean(rewards_history)\n",
    "std_reward = np.std(rewards_history)\n",
    "max_reward = np.max(rewards_history)\n",
    "min_reward = np.min(rewards_history)\n",
    "\n",
    "print(\"\\nResultados del Entrenamiento:\")\n",
    "print(f\"Recompensa Promedio: {mean_reward:.2f}\")\n",
    "print(f\"Desviación Estándar: {std_reward:.2f}\")\n",
    "print(f\"Recompensa Máxima: {max_reward}\")\n",
    "print(f\"Recompensa Mínima: {min_reward}\")"
   ]
  },
  {
   "cell_type": "markdown",
   "metadata": {},
   "source": [
    "## Fine Tuning"
   ]
  },
  {
   "cell_type": "code",
   "execution_count": 20,
   "metadata": {},
   "outputs": [
    {
     "ename": "ValueError",
     "evalue": "too many values to unpack (expected 4)",
     "output_type": "error",
     "traceback": [
      "\u001b[1;31m---------------------------------------------------------------------------\u001b[0m",
      "\u001b[1;31mValueError\u001b[0m                                Traceback (most recent call last)",
      "Cell \u001b[1;32mIn[20], line 26\u001b[0m\n\u001b[0;32m     24\u001b[0m state_in \u001b[38;5;241m=\u001b[39m torch\u001b[38;5;241m.\u001b[39mfrom_numpy(np\u001b[38;5;241m.\u001b[39mexpand_dims(state, axis\u001b[38;5;241m=\u001b[39m\u001b[38;5;241m0\u001b[39m))\u001b[38;5;241m.\u001b[39mto(device)\n\u001b[0;32m     25\u001b[0m action \u001b[38;5;241m=\u001b[39m select_epsilon_greedy_action(state_in, epsilon)\n\u001b[1;32m---> 26\u001b[0m next_state, reward, done \u001b[38;5;241m=\u001b[39m \u001b[43menv\u001b[49m\u001b[38;5;241;43m.\u001b[39;49m\u001b[43mstep\u001b[49m\u001b[43m(\u001b[49m\u001b[43maction\u001b[49m\u001b[43m)\u001b[49m[:\u001b[38;5;241m3\u001b[39m]\n\u001b[0;32m     27\u001b[0m next_state \u001b[38;5;241m=\u001b[39m next_state\u001b[38;5;241m.\u001b[39mastype(np\u001b[38;5;241m.\u001b[39mfloat32)\n\u001b[0;32m     28\u001b[0m ep_reward \u001b[38;5;241m+\u001b[39m\u001b[38;5;241m=\u001b[39m reward\n",
      "File \u001b[1;32mc:\\Python311\\Lib\\site-packages\\gym\\wrappers\\record_video.py:86\u001b[0m, in \u001b[0;36mRecordVideo.step\u001b[1;34m(self, action)\u001b[0m\n\u001b[0;32m     85\u001b[0m \u001b[38;5;28;01mdef\u001b[39;00m \u001b[38;5;21mstep\u001b[39m(\u001b[38;5;28mself\u001b[39m, action):\n\u001b[1;32m---> 86\u001b[0m     observations, rewards, dones, infos \u001b[38;5;241m=\u001b[39m \u001b[38;5;28msuper\u001b[39m()\u001b[38;5;241m.\u001b[39mstep(action)\n\u001b[0;32m     88\u001b[0m     \u001b[38;5;66;03m# increment steps and episodes\u001b[39;00m\n\u001b[0;32m     89\u001b[0m     \u001b[38;5;28mself\u001b[39m\u001b[38;5;241m.\u001b[39mstep_id \u001b[38;5;241m+\u001b[39m\u001b[38;5;241m=\u001b[39m \u001b[38;5;241m1\u001b[39m\n",
      "\u001b[1;31mValueError\u001b[0m: too many values to unpack (expected 4)"
     ]
    }
   ],
   "source": [
    "## Hyperparameters.\n",
    "num_episodes = 1000\n",
    "epsilon = 1.0\n",
    "batch_size = 32\n",
    "discount = 0.90\n",
    "cur_frame = 0\n",
    "\n",
    "\n",
    "env = gym.make('CartPole-v1')\n",
    "num_features = env.observation_space.shape[0]\n",
    "num_actions = env.action_space.n\n",
    "\n",
    "# Start training. Play game once and then train with a batch.\n",
    "\n",
    "# Linea\n",
    "main_nn = DQN(num_features, num_actions).to(device)\n",
    "# Destino\n",
    "target_nn = DQN(num_features, num_actions).to(device)\n",
    "\n",
    "optimizer = torch.optim.Adam(main_nn.parameters(), lr=1e-4)\n",
    "loss_fn = nn.MSELoss()\n",
    "\n",
    "rewards_history = []\n",
    "for episode in range(num_episodes+1):\n",
    "  state, _ = env.reset()\n",
    "  state = state.astype(np.float32)\n",
    "  ep_reward, done = 0, False\n",
    "  while not done:\n",
    "    state_in = torch.from_numpy(np.expand_dims(state, axis=0)).to(device)\n",
    "    action = select_epsilon_greedy_action(state_in, epsilon)\n",
    "    next_state, reward, done = env.step(action)[:3]\n",
    "    next_state = next_state.astype(np.float32)\n",
    "    ep_reward += reward\n",
    "    # Save to experience replay.\n",
    "    buffer.add(state, action, reward, next_state, done)\n",
    "    state = next_state\n",
    "    cur_frame += 1\n",
    "    # Copy main_nn weights to target_nn.\n",
    "    if cur_frame % 2000 == 0:\n",
    "      target_nn.load_state_dict(main_nn.state_dict())\n",
    "    \n",
    "    # Train neural network.\n",
    "    if len(buffer) > batch_size:\n",
    "      states, actions, rewards, next_states, dones = buffer.sample(batch_size)\n",
    "      loss = train_step(states, actions, rewards, next_states, dones)\n",
    "\n",
    "  if episode < 950:\n",
    "    epsilon -= 0.001\n",
    "\n",
    "  rewards_history.append(ep_reward)\n",
    "\n",
    "  if episode % 50 == 0:\n",
    "    print(f'Episode {episode}/{num_episodes}. Epsilon: {epsilon:.3f}.'\n",
    "          f' Reward in last 100 episodes: {np.mean(rewards_history):.2f}')\n",
    "    \n",
    "env.close()\n",
    "\n",
    "\n",
    "# Graficar la recompensa total obtenida en cada episodio\n",
    "plt.figure(figsize=(12, 6))\n",
    "plt.plot(range(len(rewards_history)), rewards_history, label='Recompensa por episodio')\n",
    "plt.xlabel('Episodio')\n",
    "plt.ylabel('Recompensa total')\n",
    "plt.title('Progreso del entrenamiento del agente con finetunning')\n",
    "plt.legend()\n",
    "plt.show()\n",
    "\n",
    "# Calcular estadísticas\n",
    "mean_reward = np.mean(rewards_history)\n",
    "std_reward = np.std(rewards_history)\n",
    "max_reward = np.max(rewards_history)\n",
    "min_reward = np.min(rewards_history)\n",
    "\n",
    "print(\"\\nResultados del Entrenamiento:\")\n",
    "print(f\"Recompensa Promedio: {mean_reward:.2f}\")\n",
    "print(f\"Desviación Estándar: {std_reward:.2f}\")\n",
    "print(f\"Recompensa Máxima: {max_reward}\")\n",
    "print(f\"Recompensa Mínima: {min_reward}\")"
   ]
  },
  {
   "cell_type": "markdown",
   "metadata": {},
   "source": [
    "## Task 2\n"
   ]
  },
  {
   "cell_type": "markdown",
   "metadata": {},
   "source": [
    "### Proximal Policy Optimization\n",
    "Algoritmo basado en políticas que optimiza el desempeño de un agente ajustando su política directamente. A diferencia de otros métodos de optimización como TRPO (que restringen de manera más estricta los cambios en la política), PPO utiliza una versión suavizada que limita la magnitud de los cambios en la política para evitar actualizaciones demasiado grandes. Esto se logra usando un clip sobre el ratio de probabilidad entre la política nueva y la anterior, lo que facilita la implementación y mejora la estabilidad.\n",
    "\n",
    "#### Aplicaciones:\n",
    "\n",
    "\n",
    "- Robótica\n",
    "- Simulaciones físicas complejas (e.g., OpenAI Gym, MuJoCo)\n",
    "- Juegos de video como los entornos de Atari\n",
    "- PPO es ideal cuando se necesita estabilidad y simplicidad en la optimización de la política.\n",
    "\n",
    "#### Problemas típicos:\n",
    "- Tareas de control continuo\n",
    "- Ambientes con alta dimensionalidad y estados continuos\n",
    "- Juegos multijugador donde las políticas cambian continuamente"
   ]
  },
  {
   "cell_type": "markdown",
   "metadata": {},
   "source": [
    "### Deep Deterministic Policy Gradient (DDPG)\n",
    "\n",
    "algoritmo off-policy que combina el enfoque de Q-learning y algoritmos de políticas. Utiliza redes neuronales para aproximar la política determinista, lo que permite que el agente seleccione acciones continuas. DDPG es un algoritmo basado en actores y críticos (actor-critic), donde el actor decide qué acción tomar y el crítico evalúa qué tan buena es esa acción dada una política. También emplea un \"replay buffer\" para almacenar experiencias y un mecanismo de ruido exploratorio para encontrar políticas óptimas.\n",
    "\n",
    "##### Aplicaciones:\n",
    "\n",
    "- Control de brazos robóticos\n",
    "- Conducción autónoma\n",
    "- Simulaciones físicas complejas con alta dimensionalidad de acciones\n",
    "\n",
    "##### Problemas típicos:\n",
    "- Control de movimiento en robótica\n",
    "- Simulación de sistemas físicos donde las acciones deben tomarse en valores continuos"
   ]
  },
  {
   "cell_type": "markdown",
   "metadata": {},
   "source": [
    "### Trust Region Policy Optimization (TRPO)\n",
    "\n",
    "algoritmo que busca mejorar la política de un agente ajustando los parámetros de la política, pero restringiendo el cambio de la política para evitar cambios drásticos que podrían desestabilizar el entrenamiento. TRPO hace esto optimizando una función objetivo sujeta a una restricción de región de confianza (trust region), que asegura que la política actual no se aleje demasiado de la anterior durante la actualización.\n",
    "\n",
    "#### Aplicaciones:\n",
    "\n",
    "- Robótica\n",
    "- Juegos complejos como Go o StarCraft\n",
    "- Control autónomo en simulaciones\n",
    "- TRPO es excelente cuando se necesita garantizar que las actualizaciones sean seguras y no desestabilicen la política actual.\n",
    "\n",
    "#### Problemas típicos:\n",
    "- Tareas de control continuo con restricciones de seguridad\n",
    "- Juegos de video con espacios de acción discretos y alta complejidad\n"
   ]
  },
  {
   "cell_type": "markdown",
   "metadata": {},
   "source": [
    "### Asynchronous Advantage Actor-Critic (A3C)\n",
    "algoritmo que entrena múltiples agentes de forma asíncrona en diferentes instancias del entorno al mismo tiempo, lo que permite mejorar la eficiencia de la exploración del espacio de estados. Cada agente utiliza un enfoque actor-crítico, donde el actor ajusta la política y el crítico estima el valor de la función de valor (Advantage function). A3C fue desarrollado para aprovechar el poder de procesamiento paralelo de múltiples CPU.\n",
    "\n",
    "#### Aplicaciones:\n",
    "- Simulaciones en las que se requiere realizar muchas pruebas en paralelo\n",
    "#### Problemas típicos:\n",
    "- Simulación de sistemas físicos donde se necesita explorar muchos escenarios simultáneamente"
   ]
  }
 ],
 "metadata": {
  "kernelspec": {
   "display_name": ".venv",
   "language": "python",
   "name": "python3"
  },
  "language_info": {
   "codemirror_mode": {
    "name": "ipython",
    "version": 3
   },
   "file_extension": ".py",
   "mimetype": "text/x-python",
   "name": "python",
   "nbconvert_exporter": "python",
   "pygments_lexer": "ipython3",
   "version": "3.11.9"
  }
 },
 "nbformat": 4,
 "nbformat_minor": 2
}
